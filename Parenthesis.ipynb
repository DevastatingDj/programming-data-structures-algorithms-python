{
 "cells": [
  {
   "cell_type": "code",
   "execution_count": 14,
   "metadata": {},
   "outputs": [
    {
     "name": "stdout",
     "output_type": "stream",
     "text": [
      "False\n",
      "Number of unbalanced brackets are:  1\n",
      "Brackets that are unbalanced are:  [')']\n"
     ]
    }
   ],
   "source": [
    "d = {'[':1,']': 1, '(': 2, ')':2, '{':3, '}':3 }\n",
    "openb = ['[','(', '{']\n",
    "closeb = [']',')', '}']\n",
    "def check_parenthesis(expression):\n",
    "    stack = []\n",
    "    for each in expression:\n",
    "        if each in openb:\n",
    "            stack.append(each)\n",
    "        elif each in closeb:\n",
    "            top = stack.pop()\n",
    "            if d[top] != d[each]:\n",
    "                return False\n",
    "            else:\n",
    "                pass\n",
    "        else:\n",
    "            pass\n",
    "    return True\n",
    "\n",
    "def check_and_return(expression):\n",
    "    stack = []\n",
    "    unbalanced = 0\n",
    "    typeof = []\n",
    "    for each in expression:\n",
    "        if each in openb:\n",
    "            stack.append(each)\n",
    "        elif each in closeb:\n",
    "            top = stack.pop()\n",
    "            if d[top] != d[each]:\n",
    "                typeof.append(each)\n",
    "            else:\n",
    "                pass\n",
    "        else:\n",
    "            pass\n",
    "    return typeof\n",
    "\n",
    "\n",
    "exp = '{s[b]([])([){}'\n",
    "print(check_parenthesis(exp))\n",
    "tups = check_and_return(exp)\n",
    "print('Number of unbalanced brackets are: ', len(tups))\n",
    "print('Brackets that are unbalanced are: ', tups)"
   ]
  },
  {
   "cell_type": "code",
   "execution_count": null,
   "metadata": {
    "collapsed": true
   },
   "outputs": [],
   "source": []
  }
 ],
 "metadata": {
  "kernelspec": {
   "display_name": "Python 3",
   "language": "python",
   "name": "python3"
  },
  "language_info": {
   "codemirror_mode": {
    "name": "ipython",
    "version": 3
   },
   "file_extension": ".py",
   "mimetype": "text/x-python",
   "name": "python",
   "nbconvert_exporter": "python",
   "pygments_lexer": "ipython3",
   "version": "3.6.1"
  }
 },
 "nbformat": 4,
 "nbformat_minor": 2
}
