{
 "cells": [
  {
   "cell_type": "code",
   "execution_count": 19,
   "metadata": {},
   "outputs": [
    {
     "name": "stdout",
     "output_type": "stream",
     "text": [
      "Average Case: \n",
      "\n",
      "Key: 3 [4, 3, 2, 10, 12, 1, 5, 6]\n",
      "Key: 2 [3, 4, 2, 10, 12, 1, 5, 6]\n",
      "Key: 10 [2, 3, 4, 10, 12, 1, 5, 6]\n",
      "Key: 12 [2, 3, 4, 10, 12, 1, 5, 6]\n",
      "Key: 1 [2, 3, 4, 10, 12, 1, 5, 6]\n",
      "Key: 5 [1, 2, 3, 4, 10, 12, 5, 6]\n",
      "Key: 6 [1, 2, 3, 4, 5, 10, 12, 6]\n",
      "Sorted Array ---> [1, 2, 3, 4, 5, 6, 10, 12]\n",
      "\n",
      "Best Case: \n",
      "\n",
      "Key: 2 [1, 2, 3, 4, 5, 6, 10, 12]\n",
      "Key: 3 [1, 2, 3, 4, 5, 6, 10, 12]\n",
      "Key: 4 [1, 2, 3, 4, 5, 6, 10, 12]\n",
      "Key: 5 [1, 2, 3, 4, 5, 6, 10, 12]\n",
      "Key: 6 [1, 2, 3, 4, 5, 6, 10, 12]\n",
      "Key: 10 [1, 2, 3, 4, 5, 6, 10, 12]\n",
      "Key: 12 [1, 2, 3, 4, 5, 6, 10, 12]\n",
      "Sorted Array ---> [1, 2, 3, 4, 5, 6, 10, 12]\n",
      "\n",
      "Worst Case: \n",
      "\n",
      "Key: 10 [12, 10, 6, 5, 4, 3, 2, 1]\n",
      "Key: 6 [10, 12, 6, 5, 4, 3, 2, 1]\n",
      "Key: 5 [6, 10, 12, 5, 4, 3, 2, 1]\n",
      "Key: 4 [5, 6, 10, 12, 4, 3, 2, 1]\n",
      "Key: 3 [4, 5, 6, 10, 12, 3, 2, 1]\n",
      "Key: 2 [3, 4, 5, 6, 10, 12, 2, 1]\n",
      "Key: 1 [2, 3, 4, 5, 6, 10, 12, 1]\n",
      "Sorted Array ---> [1, 2, 3, 4, 5, 6, 10, 12]\n"
     ]
    }
   ],
   "source": [
    "def insertion_sort(A):\n",
    "    for i in range(1,len(A)):\n",
    "        key = A[i]\n",
    "        print('Key: {}'.format(key), A)\n",
    "        j = i - 1\n",
    "        while (A[j] > key) & (j >= 0) :\n",
    "            A[j+1] = A[j]\n",
    "            j -= 1\n",
    "        A[j+1] = key    \n",
    "    return ('Sorted Array ---> {}'.format(A))\n",
    "\n",
    "print('Average Case: \\n')\n",
    "print(insertion_sort([4,3,2,10,12,1,5,6]))\n",
    "print()\n",
    "print('Best Case: \\n')\n",
    "print(insertion_sort([1, 2, 3, 4, 5, 6, 10, 12]))\n",
    "print()\n",
    "print('Worst Case: \\n')\n",
    "print(insertion_sort([12, 10, 6, 5, 4, 3, 2, 1]))"
   ]
  },
  {
   "cell_type": "code",
   "execution_count": null,
   "metadata": {},
   "outputs": [],
   "source": []
  }
 ],
 "metadata": {
  "kernelspec": {
   "display_name": "Python 3",
   "language": "python",
   "name": "python3"
  },
  "language_info": {
   "codemirror_mode": {
    "name": "ipython",
    "version": 3
   },
   "file_extension": ".py",
   "mimetype": "text/x-python",
   "name": "python",
   "nbconvert_exporter": "python",
   "pygments_lexer": "ipython3",
   "version": "3.7.1"
  }
 },
 "nbformat": 4,
 "nbformat_minor": 2
}
