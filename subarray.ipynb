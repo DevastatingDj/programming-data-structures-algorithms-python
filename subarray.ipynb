{
 "cells": [
  {
   "cell_type": "code",
   "execution_count": 34,
   "metadata": {},
   "outputs": [
    {
     "name": "stdout",
     "output_type": "stream",
     "text": [
      "[1, 2, 3]\n",
      "[1, 2]\n",
      "[1]\n",
      "[2]\n",
      "[2, 3]\n",
      "[3]\n"
     ]
    }
   ],
   "source": [
    "# Contiguous subarray using memoization\n",
    "l = []\n",
    "def subarray(arr, start, end):\n",
    "    \n",
    "    if start - end == 0:\n",
    "        if arr[start:end+1] not in l:\n",
    "            print(arr[start:end+1])\n",
    "            l.append(arr[start:end+1])\n",
    "        \n",
    "        return\n",
    "    else:\n",
    "        if arr[start:end+1] not in l:\n",
    "            print(arr[start:end+1])\n",
    "            l.append(arr[start:end+1])\n",
    "        subarray(arr, start, end-1)\n",
    "        subarray(arr, start+1, end)\n",
    "array = [1, 2, 3]\n",
    "subarray(array, 0, len(array)-1)"
   ]
  },
  {
   "cell_type": "code",
   "execution_count": 3,
   "metadata": {},
   "outputs": [
    {
     "name": "stdout",
     "output_type": "stream",
     "text": [
      "[1]\n",
      "[1, 2]\n",
      "[1, 2, 3]\n",
      "[2]\n",
      "[2, 3]\n",
      "[3]\n"
     ]
    }
   ],
   "source": [
    "# Contiguous subarray using iteration\n",
    "def subarray(arr):\n",
    "    for i in range(0, len(arr)):\n",
    "        subarray = []\n",
    "        for j in range(i, len(arr)):\n",
    "            subarray.append(arr[j])\n",
    "            print(subarray)\n",
    "array = [1,2,3]\n",
    "subarray(array)"
   ]
  },
  {
   "cell_type": "code",
   "execution_count": 15,
   "metadata": {},
   "outputs": [
    {
     "name": "stdout",
     "output_type": "stream",
     "text": [
      "[[1, 2, 5, 11], [3], [1, 2], [1, 17, 32]]\n"
     ]
    }
   ],
   "source": [
    "def inc_subarray(arr):\n",
    "    arr_of_arr = []\n",
    "    subarray = []\n",
    "    for i in range(0,len(arr)-1):\n",
    "        if arr[i] < arr[i+1]:\n",
    "            subarray.append(arr[i])\n",
    "        else:\n",
    "            subarray.append(arr[i])\n",
    "            arr_of_arr.append(subarray)\n",
    "            subarray = []\n",
    "        if i == len(arr)-2 :\n",
    "            subarray.append(arr[i+1])\n",
    "            arr_of_arr.append(subarray)\n",
    "    return arr_of_arr\n",
    "\n",
    "array = [1,2,5,11,3,1,2,1,17,32]\n",
    "print(inc_subarray(array))"
   ]
  }
 ],
 "metadata": {
  "kernelspec": {
   "display_name": "Python 3",
   "language": "python",
   "name": "python3"
  },
  "language_info": {
   "codemirror_mode": {
    "name": "ipython",
    "version": 3
   },
   "file_extension": ".py",
   "mimetype": "text/x-python",
   "name": "python",
   "nbconvert_exporter": "python",
   "pygments_lexer": "ipython3",
   "version": "3.6.1"
  }
 },
 "nbformat": 4,
 "nbformat_minor": 2
}
